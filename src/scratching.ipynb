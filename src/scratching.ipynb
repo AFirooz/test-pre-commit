{
 "cells": [
  {
   "cell_type": "code",
   "execution_count": null,
   "id": "0",
   "metadata": {},
   "outputs": [],
   "source": [
    "import torch\n",
    "import torch.nn as nn\n",
    "from torchvision import transforms\n",
    "from torch.utils.data import DataLoader\n",
    "\n",
    "import nn_modules as nnm\n",
    "import nn_preprocessor as nnp\n",
    "\n",
    "\n",
    "# import filestructure as fs\n",
    "\n",
    "\n",
    "class SimpleCNN(nn.Module):\n",
    "    def __init__(self):\n",
    "        super(SimpleCNN, self).__init__()\n",
    "        # Define the layers\n",
    "        self.conv1 = nn.Conv1d(in_channels=1, out_channels=16, kernel_size=3)\n",
    "        self.conv2 = nn.Conv1d(in_channels=16, out_channels=32, kernel_size=3)\n",
    "        self.pool = nn.MaxPool1d(kernel_size=2)\n",
    "        self.fc1 = nn.Linear(\n",
    "            32 * 122, 128\n",
    "        )  # Calculate the output size based on the input dimension\n",
    "        self.fc2 = nn.Linear(\n",
    "            128, 2\n",
    "        )  # Output layer dimension is 2 for binary classification\n",
    "\n",
    "    def forward(self, x):\n",
    "        # Define the forward pass\n",
    "        x = self.pool(torch.relu(self.conv1(x)))\n",
    "        x = self.pool(torch.relu(self.conv2(x)))\n",
    "        x = x.view(-1, 32 * 122)  # Reshape before passing to fully connected layers\n",
    "        x = torch.relu(self.fc1(x))\n",
    "        x = self.fc2(x)\n",
    "        return x"
   ]
  },
  {
   "cell_type": "code",
   "execution_count": null,
   "id": "1",
   "metadata": {},
   "outputs": [],
   "source": [
    "hyp = nnp.Hyperparams(resume=True, output_path=\"2024-02-20_10.55.11.660910\")"
   ]
  },
  {
   "cell_type": "code",
   "execution_count": null,
   "id": "2",
   "metadata": {},
   "outputs": [],
   "source": [
    "model, criterion, optimizer, scheduler = nnm.load_checkpoint(hyp)"
   ]
  },
  {
   "cell_type": "code",
   "execution_count": null,
   "id": "3",
   "metadata": {},
   "outputs": [],
   "source": [
    "hyp = nnp.Hyperparams(\n",
    "    batch_size=10_000,\n",
    "    learning_rate=0.001,\n",
    "    patience=30,\n",
    "    epochs=100,\n",
    "    eval_every=2,\n",
    ")\n",
    "\n",
    "labels = nnp.Labels(\"mz\")\n",
    "grouping = nnp.Grouping(\"mz\", group_init=\"person\")\n",
    "\n",
    "custom_dataset = nnp.CustomDataset(\n",
    "    \"mz\", labels.tissue_type, grouping.result, transpose=True\n",
    ")\n",
    "custom_dataset.pre_transforms(\n",
    "    transform=transforms.Compose([nnp.ColPadding(custom_dataset.all_cols)])\n",
    ")\n",
    "\n",
    "splitter = nnp.DatasetSplitter(custom_dataset, 0.7, 0.15)\n",
    "train_dataset, val_dataset, test_dataset = splitter.group_split()\n",
    "\n",
    "train_loader = DataLoader(train_dataset, batch_size=hyp.batch_size, shuffle=hyp.shuffle)\n",
    "val_loader = DataLoader(val_dataset, batch_size=hyp.batch_size, shuffle=hyp.shuffle)\n",
    "test_loader = DataLoader(test_dataset, batch_size=hyp.batch_size, shuffle=hyp.shuffle)"
   ]
  },
  {
   "cell_type": "code",
   "execution_count": null,
   "id": "4",
   "metadata": {},
   "outputs": [],
   "source": [
    "len(train_loader)"
   ]
  },
  {
   "cell_type": "code",
   "execution_count": null,
   "id": "5",
   "metadata": {},
   "outputs": [],
   "source": [
    "labels = nnp.Labels(\"mz\")\n",
    "grouping = nnp.Grouping(\"mz\", group_init=\"person\")\n",
    "\n",
    "cdata = nnp.CustomDataset(\"mz\", labels.tissue_type, grouping.result, transpose=True)\n",
    "\n",
    "df = cdata.to_df()\n",
    "bdf = cdata.df_data"
   ]
  },
  {
   "cell_type": "code",
   "execution_count": null,
   "id": "6",
   "metadata": {},
   "outputs": [],
   "source": [
    "data = bdf.loc[bdf[\"groups\"] == 27].iloc[0].pkl\n",
    "data.columns"
   ]
  },
  {
   "cell_type": "code",
   "execution_count": null,
   "id": "7",
   "metadata": {},
   "outputs": [],
   "source": [
    "len(data.index)"
   ]
  }
 ],
 "metadata": {
  "kernelspec": {
   "display_name": "Python 3",
   "language": "python",
   "name": "python3"
  },
  "language_info": {
   "codemirror_mode": {
    "name": "ipython",
    "version": 3
   },
   "file_extension": ".py",
   "mimetype": "text/x-python",
   "name": "python",
   "nbconvert_exporter": "python",
   "pygments_lexer": "ipython3",
   "version": "3.8.10"
  }
 },
 "nbformat": 4,
 "nbformat_minor": 5
}
