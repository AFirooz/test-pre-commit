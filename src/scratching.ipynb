{
 "cells": [
  {
   "cell_type": "code",
   "outputs": [],
   "source": [
    "import numpy as np\n",
    "import torch\n",
    "import torch.nn as nn\n",
    "from torchvision import transforms\n",
    "from torch.utils.data import DataLoader\n",
    "\n",
    "import nn_modules as nnm\n",
    "import nn_preprocessor as nnp\n",
    "\n",
    "\n",
    "# import filestructure as fs\n",
    "\n",
    "class SimpleCNN(nn.Module):\n",
    "    def __init__(self):\n",
    "        super(SimpleCNN, self).__init__()\n",
    "        # Define the layers\n",
    "        self.conv1 = nn.Conv1d(in_channels=1, out_channels=16, kernel_size=3)\n",
    "        self.conv2 = nn.Conv1d(in_channels=16, out_channels=32, kernel_size=3)\n",
    "        self.pool = nn.MaxPool1d(kernel_size=2)\n",
    "        self.fc1 = nn.Linear(32 * 122, 128)  # Calculate the output size based on the input dimension\n",
    "        self.fc2 = nn.Linear(128, 2)  # Output layer dimension is 2 for binary classification\n",
    "\n",
    "    def forward(self, x):\n",
    "        # Define the forward pass\n",
    "        x = self.pool(torch.relu(self.conv1(x)))\n",
    "        x = self.pool(torch.relu(self.conv2(x)))\n",
    "        x = x.view(-1, 32 * 122)  # Reshape before passing to fully connected layers\n",
    "        x = torch.relu(self.fc1(x))\n",
    "        x = self.fc2(x)\n",
    "        return x"
   ],
   "metadata": {
    "collapsed": false,
    "ExecuteTime": {
     "end_time": "2024-02-23T17:16:59.757570652Z",
     "start_time": "2024-02-23T17:16:51.636525916Z"
    }
   },
   "id": "62d17cb80e3131c9",
   "execution_count": 1
  },
  {
   "cell_type": "code",
   "outputs": [],
   "source": [
    "hyp = nnp.Hyperparams(resume=True, output_path=\"2024-02-20_10.55.11.660910\")"
   ],
   "metadata": {
    "collapsed": false
   },
   "id": "e35d403280d6c955",
   "execution_count": null
  },
  {
   "cell_type": "code",
   "outputs": [],
   "source": [
    "model, criterion, optimizer, scheduler = nnm.load_checkpoint(hyp)"
   ],
   "metadata": {
    "collapsed": false
   },
   "id": "44bf54177a3bd696",
   "execution_count": null
  },
  {
   "cell_type": "code",
   "outputs": [],
   "source": [
    "hyp = nnp.Hyperparams(batch_size=10_000,\n",
    "                      learning_rate=0.001,\n",
    "                      patience=30,\n",
    "                      epochs=100,\n",
    "                      eval_every=2,\n",
    "                      )\n",
    "\n",
    "labels = nnp.Labels('mz')\n",
    "grouping = nnp.Grouping('mz', group_init='person')\n",
    "\n",
    "custom_dataset = nnp.CustomDataset('mz', labels.tissue_type, grouping.result, transpose=True)\n",
    "custom_dataset.pre_transforms(transform=transforms.Compose([nnp.ColPadding(custom_dataset.all_cols)]))\n",
    "\n",
    "splitter = nnp.DatasetSplitter(custom_dataset, 0.7, 0.15)\n",
    "train_dataset, val_dataset, test_dataset = splitter.group_split()\n",
    "\n",
    "train_loader = DataLoader(train_dataset, batch_size=hyp.batch_size, shuffle=hyp.shuffle)\n",
    "val_loader = DataLoader(val_dataset, batch_size=hyp.batch_size, shuffle=hyp.shuffle)\n",
    "test_loader = DataLoader(test_dataset, batch_size=hyp.batch_size, shuffle=hyp.shuffle)"
   ],
   "metadata": {
    "collapsed": false,
    "ExecuteTime": {
     "end_time": "2024-02-20T20:40:05.333561843Z",
     "start_time": "2024-02-20T20:40:03.683081391Z"
    }
   },
   "id": "55f613e07ccee3b2",
   "execution_count": 7
  },
  {
   "cell_type": "code",
   "outputs": [
    {
     "data": {
      "text/plain": "5"
     },
     "execution_count": 8,
     "metadata": {},
     "output_type": "execute_result"
    }
   ],
   "source": [
    "len(train_loader)"
   ],
   "metadata": {
    "collapsed": false,
    "ExecuteTime": {
     "end_time": "2024-02-20T20:40:06.035639304Z",
     "start_time": "2024-02-20T20:40:06.023677822Z"
    }
   },
   "id": "fd13a3313057075b",
   "execution_count": 8
  },
  {
   "cell_type": "code",
   "outputs": [],
   "source": [
    "labels = nnp.Labels('mz')\n",
    "grouping = nnp.Grouping('mz', group_init='person')\n",
    "\n",
    "cdata = nnp.CustomDataset('mz', labels.tissue_type, grouping.result, transpose=True)\n",
    "\n",
    "df = cdata.to_df()\n",
    "bdf = cdata.df_data"
   ],
   "metadata": {
    "collapsed": false,
    "ExecuteTime": {
     "end_time": "2024-02-23T17:19:08.520083329Z",
     "start_time": "2024-02-23T17:19:06.274785227Z"
    }
   },
   "id": "c05fd3250b90f28e",
   "execution_count": 5
  },
  {
   "cell_type": "code",
   "outputs": [
    {
     "data": {
      "text/plain": "Index([   5.872,    5.874,    5.876,    5.878,     6.03,    6.033,    6.035,\n          6.037,    6.629,    6.632,    6.634,    6.636,    6.728,     6.73,\n          6.731, 'labels', 'groups'],\n      dtype='object')"
     },
     "execution_count": 14,
     "metadata": {},
     "output_type": "execute_result"
    }
   ],
   "source": [
    "data = bdf.loc[bdf['groups'] == 27].iloc[0].pkl\n",
    "data.columns"
   ],
   "metadata": {
    "collapsed": false,
    "ExecuteTime": {
     "end_time": "2024-02-23T17:24:59.734983057Z",
     "start_time": "2024-02-23T17:24:59.658028562Z"
    }
   },
   "id": "d853a6a0be8d8c93",
   "execution_count": 14
  },
  {
   "cell_type": "code",
   "outputs": [
    {
     "data": {
      "text/plain": "498"
     },
     "execution_count": 16,
     "metadata": {},
     "output_type": "execute_result"
    }
   ],
   "source": [
    "len(data.index)"
   ],
   "metadata": {
    "collapsed": false,
    "ExecuteTime": {
     "end_time": "2024-02-23T18:11:19.426383011Z",
     "start_time": "2024-02-23T18:11:19.363937520Z"
    }
   },
   "id": "306ecff2a6746ff9",
   "execution_count": 16
  }
 ],
 "metadata": {
  "kernelspec": {
   "display_name": "Python 3",
   "language": "python",
   "name": "python3"
  },
  "language_info": {
   "codemirror_mode": {
    "name": "ipython",
    "version": 3
   },
   "file_extension": ".py",
   "mimetype": "text/x-python",
   "name": "python",
   "nbconvert_exporter": "python",
   "pygments_lexer": "ipython3",
   "version": "3.8.10"
  }
 },
 "nbformat": 4,
 "nbformat_minor": 5
}
