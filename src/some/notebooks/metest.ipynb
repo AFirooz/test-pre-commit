{
 "cells": [
  {
   "cell_type": "code",
   "execution_count": 1,
   "id": "initial_id",
   "metadata": {
    "ExecuteTime": {
     "end_time": "2024-04-17T21:52:05.497259Z",
     "start_time": "2024-04-17T21:52:05.488318Z"
    },
    "collapsed": true
   },
   "outputs": [
    {
     "name": "stdout",
     "output_type": "stream",
     "text": [
      "H3N3\n",
      "H4N2\n"
     ]
    }
   ],
   "source": [
    "base = \"H3N3\tH3N3F1\tH3N3S1\tH3N4\"\n",
    "base = base.split(\"\\t\")\n",
    "\n",
    "query = \"H4N2\tH3N3\tH5N2\"\n",
    "query = query.split(\"\\t\")\n",
    "\n",
    "print(base[0])\n",
    "print(query[0])\n",
    "\n",
    "# type(query[0])"
   ]
  }
 ],
 "metadata": {
  "jupytext": {
   "formats": "notebooks//ipynb,scripts//py:light"
  },
  "kernelspec": {
   "display_name": "Python 3",
   "language": "python",
   "name": "python3"
  },
  "language_info": {
   "codemirror_mode": {
    "name": "ipython",
    "version": 2
   },
   "file_extension": ".py",
   "mimetype": "text/x-python",
   "name": "python",
   "nbconvert_exporter": "python",
   "pygments_lexer": "ipython2",
   "version": "2.7.6"
  }
 },
 "nbformat": 4,
 "nbformat_minor": 5
}
