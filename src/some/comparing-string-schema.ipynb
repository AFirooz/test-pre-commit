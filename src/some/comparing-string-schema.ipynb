{
 "cells": [
  {
   "cell_type": "markdown",
   "id": "0",
   "metadata": {},
   "source": [
    "# Topic: Find out if I need to add any columns (usually done manually)\n",
    "This Notebook will not need to run very often because this is only for when you are changing the schema\n",
    "\n",
    "# Splitting Text into a list"
   ]
  },
  {
   "cell_type": "code",
   "execution_count": null,
   "id": "1",
   "metadata": {},
   "outputs": [],
   "source": [
    "base = \"H3N3\tH3N3F1\tH3N3S1\tH3N4\"\n",
    "base = base.split(\"\\t\")\n",
    "\n",
    "query = \"H4N2\tH3N3\tH5N2\"\n",
    "query = query.split(\"\\t\")\n",
    "\n",
    "print(base[0])\n",
    "print(query[0])\n",
    "\n",
    "# type(query[0])"
   ]
  },
  {
   "cell_type": "markdown",
   "id": "2",
   "metadata": {},
   "source": [
    "# Comparing Text"
   ]
  },
  {
   "cell_type": "code",
   "execution_count": null,
   "id": "3",
   "metadata": {
    "lines_to_next_cell": 2
   },
   "outputs": [],
   "source": [
    "newList: list = []\n",
    "\n",
    "for q in query:\n",
    "    inBase = False\n",
    "    for b in base:\n",
    "        if q == b:\n",
    "            inBase = True\n",
    "    if not inBase:\n",
    "        newList.append(q)"
   ]
  },
  {
   "cell_type": "code",
   "execution_count": null,
   "id": "4",
   "metadata": {},
   "outputs": [],
   "source": [
    "print(newList)"
   ]
  },
  {
   "cell_type": "markdown",
   "id": "5",
   "metadata": {},
   "source": [
    "# Pickling out"
   ]
  },
  {
   "cell_type": "code",
   "execution_count": null,
   "id": "6",
   "metadata": {},
   "outputs": [],
   "source": [
    "import pickle\n",
    "from os.path import join\n",
    "\n",
    "with open(join(PklPath.data_importer, \"0_newListString.pkl\"), \"wb\") as pickle_out:\n",
    "    pickle.dump(newList, pickle_out)"
   ]
  }
 ],
 "metadata": {
  "jupytext": {
   "formats": "ipynb,py:percent"
  },
  "kernelspec": {
   "display_name": "Python 3.9.5 64-bit",
   "language": "python",
   "name": "python3"
  }
 },
 "nbformat": 4,
 "nbformat_minor": 5
}
