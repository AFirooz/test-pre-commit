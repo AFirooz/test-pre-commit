{
 "cells": [
  {
   "cell_type": "markdown",
   "id": "d038fdc8",
   "metadata": {},
   "source": [
    "# 1 - Importing Data"
   ]
  },
  {
   "cell_type": "code",
   "execution_count": null,
   "id": "72363740",
   "metadata": {},
   "outputs": [],
   "source": [
    "import pickle\n",
    "import pandas as pd\n",
    "from varname import argname\n",
    "from os.path import join\n",
    "from src.modules.filestructure import PklPath, OutputPath\n",
    "\n",
    "with open(join(PklPath.data_importer, \"2_insertPK.pkl\"), \"rb\") as pickle_in:\n",
    "    insertPK: dict = pickle.load(pickle_in)\n",
    "\n",
    "print(\"Done\")"
   ]
  },
  {
   "cell_type": "markdown",
   "id": "07f2172e",
   "metadata": {},
   "source": [
    "# 2 - Creating Insert for New Primary Keys\n",
    "Even if you have more information to insert to PersonalInfo, add the IDs first and then create update statements\n",
    "## 2.1 - Person Info\n",
    "Adding the new IDs to PersonalInfo"
   ]
  },
  {
   "cell_type": "code",
   "execution_count": null,
   "id": "ace0d407",
   "metadata": {},
   "outputs": [],
   "source": [
    "def insertPK_statement(\n",
    "    aTable_pk: pd.DataFrame,\n",
    "    aTable_pk_str: str = None,\n",
    "    file_name: str = None,\n",
    "    export: bool = False,\n",
    ") -> str:\n",
    "    \"\"\"\n",
    "    Generates a SQL statement for inserting the IDs into a PersonInfo table.\n",
    "    The time complexity of this function is O(nm) where n is the number of rows and m is the number of columns. Since m is limited (constant), so we can just say O(n). Every other operation in this function is also O(n).\n",
    "    :param file_name: Specify what name should the file be exported to\n",
    "    :param aTable_pk: The dataframe having all primary key entries.\n",
    "    :type aTable_pk: pd.DataFrame\n",
    "\n",
    "    :param aTable_pk_str: The name of the table to insert the data into. If not provided, the function will try to determine the name of the DataFrame.\n",
    "    :type aTable_pk_str: str, optional\n",
    "\n",
    "    :param export: Determines whether the SQL statement should be written to a file or returned as the output of the function.\n",
    "    :type export: bool, optional\n",
    "\n",
    "    :return: The generated SQL statement.\n",
    "    :rtype: str\n",
    "    \"\"\"\n",
    "\n",
    "    # Populate aTable_pk_str if empty\n",
    "    if aTable_pk_str is None or type(aTable_pk_str) != str:\n",
    "        aTable_pk_str: str = argname(\"aTable_pk\")\n",
    "\n",
    "    if file_name is None or type(file_name) != str:\n",
    "        file_name = aTable_pk_str\n",
    "\n",
    "    # 1- create the statement for all pk in the df\n",
    "    startStatement: str = \"insert into HealthProject.\" + aTable_pk_str + \" \"\n",
    "    intermediateState: str = \" values\" + \"\\n\" + \"\\t\"\n",
    "    resultStatement: str = (\n",
    "        startStatement\n",
    "        + str(list(aTable_pk.columns))\n",
    "        .replace(\"[\", \"(\", 1)\n",
    "        .replace(\"]\", \")\", 1)\n",
    "        .replace(\"'\", \"\")\n",
    "        + intermediateState\n",
    "    )\n",
    "\n",
    "    # 2- create the values\n",
    "    for index in range(aTable_pk.shape[0]):\n",
    "        resultStatement: str = resultStatement + \"(\"\n",
    "        for colData in range(aTable_pk.shape[1]):\n",
    "            if type(aTable_pk.iloc[index][colData]) == str:\n",
    "                resultStatement: str = (\n",
    "                    resultStatement + \"'\" + aTable_pk.iloc[index][colData] + \"'\"\n",
    "                )\n",
    "            else:\n",
    "                resultStatement: str = resultStatement + str(\n",
    "                    aTable_pk.iloc[index][colData]\n",
    "                ).replace(\"'\", \"\")\n",
    "            if colData != (aTable_pk.shape[1] - 1):\n",
    "                resultStatement: str = resultStatement + \", \"\n",
    "\n",
    "        resultStatement: str = resultStatement + \"), \\n\\t\"\n",
    "\n",
    "    resultStatement = resultStatement[:-4] + \";\"\n",
    "\n",
    "    if export:\n",
    "        with open(\n",
    "            join(OutputPath.sql, f\"{file_name}_3_primary_keys.sql\"), \"w\"\n",
    "        ) as txtFile:\n",
    "            txtFile.write(resultStatement)\n",
    "    else:\n",
    "        return resultStatement\n",
    "\n",
    "\n",
    "print(\"Done\")"
   ]
  },
  {
   "cell_type": "code",
   "execution_count": null,
   "id": "f7bec332",
   "metadata": {},
   "outputs": [],
   "source": [
    "for key in insertPK:\n",
    "    df = insertPK[key]\n",
    "    insertPK_statement(aTable_pk=df, aTable_pk_str=key, export=True)\n",
    "\n",
    "print(\"Done\")"
   ]
  }
 ],
 "metadata": {
  "jupytext": {
   "formats": "ipynb,py"
  },
  "kernelspec": {
   "display_name": "Python 3",
   "language": "python",
   "name": "python3"
  }
 },
 "nbformat": 4,
 "nbformat_minor": 5
}
