{
 "cells": [
  {
   "cell_type": "markdown",
   "id": "0",
   "metadata": {},
   "source": [
    "# Mapping missed Aliquot IDs to FWIDs"
   ]
  },
  {
   "cell_type": "code",
   "execution_count": null,
   "id": "1",
   "metadata": {},
   "outputs": [],
   "source": [
    "import pandas as pd\n",
    "\n",
    "# nums = [1, 2, 3, 4, 5, 6]\n",
    "# dfs = []\n",
    "# for i in nums:\n",
    "#     base = pd.read_excel(f\"../../../RawFiles/AliquotID_ref/{i}.xlsx\",\n",
    "#                        index_col=None,\n",
    "#                        header=0,\n",
    "#                        na_values=(\"NA\", \"N/A\", \"na\", \"n/a\", \"NULL\", \"null\", \"Not documented\", \"Not Documented\", 'nan', 'Unknown', 'unknown'))\n",
    "#     base.rename(columns={\n",
    "#     'Tissue Site ' : 'Site',\n",
    "#     'Specimen Type ' : 'Specimen Type',\n",
    "#     'Stage ' : 'Stage'\n",
    "#     }, inplace=True)\n",
    "#     dfs.append(base)\n",
    "#\n",
    "# df = pd.concat(dfs)\n",
    "# df.drop_duplicates(keep='first', inplace=True)\n",
    "# df.drop(columns=['Specimen Type.1'], inplace=True)\n",
    "\n",
    "df = pd.read_excel(\n",
    "    f\"../../../RawFiles/AliquotID_ref/{i}.xlsx\",\n",
    "    index_col=None,\n",
    "    header=0,\n",
    "    na_values=(\n",
    "        \"NA\",\n",
    "        \"N/A\",\n",
    "        \"na\",\n",
    "        \"n/a\",\n",
    "        \"NULL\",\n",
    "        \"null\",\n",
    "        \"Not documented\",\n",
    "        \"Not Documented\",\n",
    "        \"nan\",\n",
    "        \"Unknown\",\n",
    "        \"unknown\",\n",
    "    ),\n",
    ")\n",
    "df_dict = df.groupby(\"FWID\")\n",
    "\n",
    "# df.to_excel('../../../RawFiles/AliquotID_ref/combined.xlsx')"
   ]
  },
  {
   "cell_type": "code",
   "execution_count": null,
   "id": "2",
   "metadata": {},
   "outputs": [],
   "source": [
    "from src.modules.filestructure import GlobVar\n",
    "from os.path import join\n",
    "\n",
    "file_6 = pd.read_excel(\n",
    "    join(GlobVar.raw_data_path, \"6.Galectins.xlsx\"),\n",
    "    index_col=None,\n",
    "    header=0,\n",
    "    na_values=(\n",
    "        \"NA\",\n",
    "        \"N/A\",\n",
    "        \"na\",\n",
    "        \"n/a\",\n",
    "        \"NULL\",\n",
    "        \"null\",\n",
    "        \"Not documented\",\n",
    "        \"Not Documented\",\n",
    "        \"nan\",\n",
    "    ),\n",
    ")"
   ]
  },
  {
   "cell_type": "code",
   "execution_count": null,
   "id": "3",
   "metadata": {},
   "outputs": [],
   "source": [
    "# this cell showing that out of 153 IDs in query, for all 36 IDs in the query that map to several Aliquot IDs in the base, have the same entries for Site, Spec Considered, Sample Considered. Should we just choose one Aliquot ID by random?\n",
    "count = 0\n",
    "for id in file_6[\"FWID\"]:\n",
    "    if id in df_dict.groups and len(temp := df_dict.get_group(id)) > 1:\n",
    "        if len(set(temp[\"Sample Considered\"].values)) > 1:\n",
    "            count += 1\n",
    "count"
   ]
  },
  {
   "cell_type": "code",
   "execution_count": null,
   "id": "4",
   "metadata": {},
   "outputs": [],
   "source": [
    "# TODO: do same thing for other files 5, 4, 3\n",
    "file_6_id = {}\n",
    "count = 0\n",
    "for id in file_6[\"FWID\"]:\n",
    "    if id in df_dict.groups:\n",
    "        count += 1\n",
    "        file_6_id[id] = set(df_dict.get_group(id)[\"Unique Aliquot ID\"].values)\n",
    "\n",
    "print(\n",
    "    f\"A number of {len(file_6) - count} out of {len(file_6)} IDs are yet to be identified\"\n",
    ")\n",
    "file_6_id"
   ]
  },
  {
   "cell_type": "code",
   "execution_count": null,
   "id": "5",
   "metadata": {},
   "outputs": [],
   "source": [
    "# temp\n",
    "print(\"test output, should be cleared. Remove this line after testing\")"
   ]
  }
 ],
 "metadata": {
  "jupytext": {
   "formats": "notebooks//ipynb,_notebooks//py:light"
  },
  "kernelspec": {
   "display_name": "Python 3",
   "language": "python",
   "name": "python3"
  }
 },
 "nbformat": 4,
 "nbformat_minor": 5
}
