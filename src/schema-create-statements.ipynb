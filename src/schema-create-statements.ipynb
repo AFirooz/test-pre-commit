{
 "cells": [
  {
   "cell_type": "markdown",
   "id": "0",
   "metadata": {},
   "source": [
    "# Topic: Create Modify Table statements to change schema\n",
    "This Notebook will not need to run very often because this is only for when you are changing the schema\n",
    "# Getting the DataFrame"
   ]
  },
  {
   "cell_type": "code",
   "execution_count": null,
   "id": "1",
   "metadata": {},
   "outputs": [],
   "source": [
    "import pickle\n",
    "from os.path import join\n",
    "from src.modules.filestructure import PklPath\n",
    "\n",
    "# df = pd.read_excel(\"../../RawFiles/NewData_NotAdded/Lung_Breast_serum.xlsx\", index_col=None, header=0, na_values=(\"NA\", \"N/A\", \"na\", \"n/a\", \"Not documented\", \"Not Documented\", \"NULL\", \"null\"))\n",
    "\n",
    "# OR\n",
    "\n",
    "with open(join(PklPath.data_importer, \"df.pkl\"), \"rb\") as pickle_in:\n",
    "    df = pickle.load(pickle_in)\n",
    "\n",
    "\"\"\"\n",
    "with open(join(PklPath.data_importer, \"1_newListString.pkl\") , \"rb\") as pickle_in:\n",
    "    newList:list = pickle.load(pickle_in)\n",
    "\"\"\"\n",
    "# OR\n",
    "newList: list = [\"\"]"
   ]
  },
  {
   "cell_type": "code",
   "execution_count": null,
   "id": "2",
   "metadata": {},
   "outputs": [],
   "source": [
    "df[\"PatientAgeAtCollection\"][7]"
   ]
  },
  {
   "cell_type": "markdown",
   "id": "3",
   "metadata": {},
   "source": [
    "# Defining the schema\n",
    "Find the max and min character number for float numbers and strings\n",
    "Change `col` to a specific column name , or change j to a specific column index number.\n"
   ]
  },
  {
   "cell_type": "code",
   "execution_count": null,
   "id": "4",
   "metadata": {
    "lines_to_next_cell": 2
   },
   "outputs": [],
   "source": [
    "# col = list(df.columns)[j]\n",
    "col = \"PatientAgeAtCollection\"\n",
    "calFloat: bool = False\n",
    "\n",
    "# TODO : fix the bug when calFloat is True\n",
    "if calFloat:\n",
    "    # For float numbers\n",
    "    intNumLength: int = -1\n",
    "    floatNumLength: int = -1\n",
    "    for i in range(df.shape[0]):  # rows\n",
    "        temp = str(df.loc[i, col]).split(\".\")\n",
    "        intTemp = len(temp[0])\n",
    "        floatTemp = len(temp[1])\n",
    "        if intNumLength < intTemp:\n",
    "            intNumLength = intTemp\n",
    "        if floatNumLength < floatTemp:\n",
    "            floatNumLength = floatTemp\n",
    "\n",
    "    print(intNumLength, floatNumLength)\n",
    "\n",
    "else:\n",
    "    # For String\n",
    "    longNum: str = \"\"\n",
    "    for i in range(df.shape[0]):  # rows\n",
    "        if len(str(df.loc[i, col])) > len(longNum):\n",
    "            longNum: str = str(df.loc[i, col])\n",
    "\n",
    "    print(longNum, len(longNum))"
   ]
  },
  {
   "cell_type": "markdown",
   "id": "5",
   "metadata": {},
   "source": [
    "# Creating new columns statement"
   ]
  },
  {
   "cell_type": "code",
   "execution_count": null,
   "id": "6",
   "metadata": {},
   "outputs": [],
   "source": [
    "preText = \"alter table HealthProject.SampleInfo add \"\n",
    "postText = \" varchar(200) null;\""
   ]
  },
  {
   "cell_type": "code",
   "execution_count": null,
   "id": "7",
   "metadata": {
    "lines_to_next_cell": 2
   },
   "outputs": [],
   "source": [
    "statement: str = \"\"\n",
    "\n",
    "for newColumn in newList:\n",
    "    statement = statement + preText + \"'\" + str(newColumn) + \"'\" + postText + \"\\n\""
   ]
  },
  {
   "cell_type": "code",
   "execution_count": null,
   "id": "8",
   "metadata": {},
   "outputs": [],
   "source": [
    "with open(\"../outputData/2_SchemaAlterTable.txt\", \"w\") as txtFile:\n",
    "    txtFile.write(statement)"
   ]
  }
 ],
 "metadata": {
  "jupytext": {
   "formats": "ipynb,py:percent"
  },
  "kernelspec": {
   "display_name": "Python 3.9.5 64-bit",
   "language": "python",
   "name": "python3"
  }
 },
 "nbformat": 4,
 "nbformat_minor": 5
}
