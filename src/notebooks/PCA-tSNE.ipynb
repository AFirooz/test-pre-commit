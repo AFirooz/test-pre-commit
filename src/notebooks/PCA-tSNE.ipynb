{
 "cells": [
  {
   "cell_type": "code",
   "execution_count": null,
   "id": "0",
   "metadata": {},
   "outputs": [],
   "source": [
    "# Source: https://www.kaggle.com/code/akhileshrai/intro-cnn-pytorch-pca-tnse-isomap\n",
    "\n",
    "from torchvision import transforms\n",
    "\n",
    "from sklearn.decomposition import PCA\n",
    "from sklearn.manifold import TSNE\n",
    "from sklearn import manifold\n",
    "from sklearn.preprocessing import RobustScaler\n",
    "\n",
    "import warnings\n",
    "import os.path as path\n",
    "import pandas as pd\n",
    "import seaborn as sns\n",
    "import matplotlib.pyplot as plt\n",
    "\n",
    "import filestructure as fs\n",
    "import nn_preprocessor as nnp\n",
    "\n",
    "warnings.filterwarnings(\"ignore\", category=Warning)\n",
    "\n",
    "\n",
    "def plot_nD(x: str, y: str, z: str, data: pd.DataFrame, labels: str = \"labels\"):\n",
    "    # this is needed for 3D plotting method!\n",
    "    color: pd.Series = data[labels].copy()\n",
    "    color.replace([0, 1], [\"r\", \"b\"], inplace=True)\n",
    "\n",
    "    fig = plt.figure(dpi=200)\n",
    "\n",
    "    # 2D\n",
    "    if z not in list(data.columns):\n",
    "        ax = fig.add_subplot(1, 1, 1)\n",
    "        sns.scatterplot(\n",
    "            x=x,\n",
    "            y=y,\n",
    "            data=data,\n",
    "            hue=labels,\n",
    "            legend=False,\n",
    "            ax=ax,\n",
    "        )\n",
    "    # 3D\n",
    "    else:\n",
    "        ax = fig.add_subplot(1, 1, 1, projection=\"3d\")\n",
    "        ax.scatter(\n",
    "            x,\n",
    "            y,\n",
    "            z,\n",
    "            data=data,\n",
    "            c=color,\n",
    "        )\n",
    "    plt.show()\n",
    "    return fig, ax\n",
    "\n",
    "\n",
    "def plot_side_by_side(\n",
    "    x: str, y: str, z: str, data: pd.DataFrame, labels: str = \"labels\"\n",
    "):\n",
    "    if z in list(data.columns) or len(list(data.columns)) > 3:\n",
    "        print(\"Only usable for 2D data\")\n",
    "        return\n",
    "\n",
    "    fig, axs = plt.subplots(ncols=2, nrows=1, dpi=200, figsize=(8, 4))\n",
    "    axs = axs.flatten()\n",
    "    flt0 = data[labels] == 0\n",
    "    flt1 = data[labels] == 1\n",
    "\n",
    "    sns.scatterplot(\n",
    "        x=x,\n",
    "        y=y,\n",
    "        data=data.loc[flt0],\n",
    "        color=\"r\",\n",
    "        legend=False,\n",
    "        ax=axs[0],\n",
    "    )\n",
    "    sns.scatterplot(\n",
    "        x=x,\n",
    "        y=y,\n",
    "        data=data.loc[flt1],\n",
    "        color=\"b\",\n",
    "        legend=False,\n",
    "        ax=axs[1],\n",
    "    )\n",
    "    plt.show()\n",
    "    return fig, axs\n",
    "\n",
    "\n",
    "savefig = True\n",
    "labels = nnp.Labels(\"mz\")\n",
    "grouping = nnp.Grouping(\"mz\", group_init=\"person\")\n",
    "outdir = path.join(fs.OutputPath.lcms, \"dim reduction\")\n",
    "\n",
    "data = nnp.CustomDataset(\"mz\", labels.tissue_type, grouping.result, transpose=False)\n",
    "data.pre_transforms(transform=transforms.Compose([nnp.ColPadding(data.all_cols)]))\n",
    "\n",
    "df = data.to_df()"
   ]
  },
  {
   "cell_type": "markdown",
   "id": "1",
   "metadata": {},
   "source": [
    "# Get the DataFrame"
   ]
  },
  {
   "cell_type": "code",
   "execution_count": null,
   "id": "2",
   "metadata": {},
   "outputs": [],
   "source": [
    "# making sure the sizes are correct\n",
    "labels = df[\"labels\"].tolist()\n",
    "print(f\"rows: {df.shape[0]} \\ncols: {df.shape[1]}\")\n",
    "\n",
    "assert df.head().shape[1] == data.__getitem__(5)[0].shape[0]\n",
    "assert df.shape[0] == len(labels), \"Your labels are wrong!\"\n",
    "\n",
    "df = df.drop(columns=[\"groups\", \"labels\"])"
   ]
  },
  {
   "cell_type": "markdown",
   "id": "3",
   "metadata": {},
   "source": [
    "# Normalization"
   ]
  },
  {
   "cell_type": "code",
   "execution_count": null,
   "id": "4",
   "metadata": {},
   "outputs": [],
   "source": [
    "df_scaled = df\n",
    "df_col_names = list(df.columns)\n",
    "df_index = list(df.index)\n",
    "\n",
    "# df_scaled = pd.DataFrame(df_scaled, columns=df_col_names, index=df_index) if isinstance(df_scaled, np.ndarray) else df_scaled\n",
    "\n",
    "# Scaling\n",
    "# df_scaled = StandardScaler().fit_transform(df_scaled)\n",
    "# df_scaled = MinMaxScaler().fit_transform(df_scaled)\n",
    "df_scaled = RobustScaler().fit_transform(df_scaled)\n",
    "\n",
    "# recreating the DataFrame\n",
    "df_scaled = pd.DataFrame(df_scaled, columns=df_col_names, index=df_index)"
   ]
  },
  {
   "cell_type": "markdown",
   "id": "5",
   "metadata": {},
   "source": [
    "# PCA\n",
    "Principal Component Analysis, or PCA, is a dimensionality-reduction method that is often used to reduce the dimensionality of large data sets, by transforming a large set of variables into a smaller one that still contains most of the information in the large set. Reducing the number of variables of a data set naturally comes at the expense of accuracy, but the trick in dimensionality reduction is to trade a little accuracy for simplicity. Because smaller data sets are easier to explore and visualize and make analyzing data much easier and faster for machine learning algorithms without extraneous variables to process. So to sum up, the idea of PCA is simple — reduce the number of variables of a data set, while preserving as much information as possible."
   ]
  },
  {
   "cell_type": "code",
   "execution_count": null,
   "id": "6",
   "metadata": {},
   "outputs": [],
   "source": [
    "# perform PCA\n",
    "n_pc = 2\n",
    "\n",
    "pca = PCA(n_components=n_pc)\n",
    "pc = pca.fit_transform(df_scaled)\n",
    "pc_col_names = [f\"PC{i + 1}\" for i in range(n_pc)]\n",
    "\n",
    "# add labels\n",
    "principal_df = pd.DataFrame(data=pc, columns=pc_col_names)\n",
    "labels = pd.DataFrame(data=labels, columns=[\"labels\"])\n",
    "principal_df = pd.concat(\n",
    "    [principal_df, labels], axis=1, join=\"inner\", ignore_index=True\n",
    ")\n",
    "\n",
    "# removing duplicates since that won't help us (or add any extra information)\n",
    "# principal_df = principal_df.loc[:, ~principal_df.columns.duplicated()]\n",
    "principal_df = principal_df.drop_duplicates(ignore_index=True)\n",
    "principal_df.columns = pc_col_names + [\"labels\"]\n",
    "\n",
    "principal_df.head(3)"
   ]
  },
  {
   "cell_type": "code",
   "execution_count": null,
   "id": "7",
   "metadata": {},
   "outputs": [],
   "source": [
    "# drop outlines (just experimenting)\n",
    "p1 = principal_df[\"PC1\"]\n",
    "p2 = principal_df[\"PC2\"]\n",
    "\n",
    "principal_df[\"PC1\"] = p1.loc[~(p1 > 500)]\n",
    "principal_df[\"PC2\"] = p2.loc[~(p2 > -20)].loc[~(p2 < -100)]"
   ]
  },
  {
   "cell_type": "markdown",
   "id": "8",
   "metadata": {},
   "source": [
    "# Plotting the results"
   ]
  },
  {
   "cell_type": "code",
   "execution_count": null,
   "id": "9",
   "metadata": {},
   "outputs": [],
   "source": [
    "fig, ax = plot_nD(x=\"PC1\", y=\"PC2\", z=\"PC3\", data=principal_df)\n",
    "fig.savefig(path.join(outdir, \"pca_2d.png\")) if savefig else None\n",
    "\n",
    "fig, ax = plot_side_by_side(\n",
    "    x=\"PC1\",\n",
    "    y=\"PC2\",\n",
    "    z=\"PC3\",\n",
    "    data=principal_df,\n",
    ")\n",
    "fig.savefig(path.join(outdir, \"pca_2d_side.png\")) if savefig else None"
   ]
  },
  {
   "cell_type": "markdown",
   "id": "10",
   "metadata": {},
   "source": [
    "# t-SNE\n",
    "\n",
    "**t-Distributed Stochastic Neighbor Embedding (t-SNE)** is a (prize-winning) technique for dimensionality reduction that is particularly \n",
    "well suited for the visualization of high-dimensional datasets. The technique can be implemented via Barnes-Hut approximations, allowing it to be applied on large real-world datasets. t-Distributed Stochastic Neighbor Embedding (t-SNE) is an unsupervised, non-linear technique primarily used for data exploration and visualizing high-dimensional data. In simpler terms, t-SNE gives you a feel or intuition of how the data is arranged in a high-dimensional space. It was developed by Laurens van der Maatens and Geoffrey Hinton in 2008.\n",
    "\n",
    "## t-SNE vs PCA\n",
    "You’re probably wondering the difference between PCA and t-SNE. The first thing to note is that PCA was developed in 1933 while t-SNE was developed in 2008. A lot has changed in the world of data science since 1933 mainly in the realm of computing and size of data. Second, PCA is a linear dimension reduction technique that seeks to maximize variance and preserves large pairwise distances. In other words, things that are different end up far apart. This can lead to poor visualization, especially when dealing with non-linear manifold structures. Think of a manifold structure as any geometric shape like: cylinder, ball, curve, etc.\n",
    "\n",
    "t-SNE differs from PCA by preserving only small pairwise distances or local similarities, whereas PCA is concerned with preserving large pairwise distances to maximize variance. You can see that due to the non-linearity of this toy dataset (manifold) and preserving large distances that PCA would incorrectly preserve the structure of the data."
   ]
  },
  {
   "cell_type": "code",
   "execution_count": null,
   "id": "11",
   "metadata": {},
   "outputs": [],
   "source": [
    "n_ts = 2\n",
    "ts_col_names = [f\"t-SNE{i + 1}\" for i in range(n_ts)]\n",
    "ts = TSNE(n_components=n_ts, verbose=1, perplexity=40, n_iter=300)\n",
    "tsne = ts.fit_transform(df_scaled)\n",
    "\n",
    "# add labels\n",
    "tsne = pd.DataFrame(data=tsne, columns=ts_col_names)\n",
    "labels = pd.DataFrame(data=labels, columns=[\"labels\"])\n",
    "tsne = pd.concat([tsne, labels], axis=1, join=\"inner\", ignore_index=True)\n",
    "\n",
    "# removing duplicates since that won't help us (or add any extra information)\n",
    "tsne = tsne.drop_duplicates(ignore_index=True)\n",
    "tsne.columns = ts_col_names + [\"labels\"]\n",
    "\n",
    "tsne.head(3)"
   ]
  },
  {
   "cell_type": "code",
   "execution_count": null,
   "id": "12",
   "metadata": {},
   "outputs": [],
   "source": [
    "fig, ax = plot_nD(x=\"t-SNE1\", y=\"t-SNE2\", z=\"t-SNE3\", data=tsne)\n",
    "fig.savefig(path.join(outdir, \"tsne_2d.png\")) if savefig else None\n",
    "\n",
    "fig, ax = plot_side_by_side(x=\"t-SNE1\", y=\"t-SNE2\", z=\"t-SNE3\", data=tsne)\n",
    "fig.savefig(path.join(outdir, \"tsne_2d_side.png\")) if savefig else None"
   ]
  },
  {
   "cell_type": "markdown",
   "id": "13",
   "metadata": {},
   "source": [
    "# ISOMAP\n",
    "Isomap stands for **isometric mapping.** Isomap is a non-linear dimensionality reduction method based on the spectral theory which tries to \n",
    "preserve the geodesic distances in the lower dimension. Isomap starts by creating a neighborhood network. After that, it uses graph distance to the approximate geodesic distance between all pairs of points. And then, through eigenvalue decomposition of the geodesic distance matrix, it finds the low dimensional embedding of the dataset. In non-linear manifolds, the Euclidean metric for distance holds good if and only if neighborhood structure can be approximated as linear. If a neighborhood contains holes, then Euclidean distances can be highly misleading. In contrast to this, if we measure the distance between two points by following the manifold, we will have a better approximation of how far or near two points are. Let's understand this with an extremely simple 2-D example."
   ]
  },
  {
   "cell_type": "code",
   "execution_count": null,
   "id": "14",
   "metadata": {},
   "outputs": [],
   "source": [
    "n_iso = 2\n",
    "iso_col_names = [f\"ISO{i + 1}\" for i in range(n_iso)]\n",
    "\n",
    "iso = manifold.Isomap(n_neighbors=6, n_components=n_iso)\n",
    "iso.fit(df_scaled)\n",
    "manifold_iso = iso.transform(df_scaled)\n",
    "\n",
    "# add labels\n",
    "manifold_iso = pd.DataFrame(data=manifold_iso, columns=iso_col_names)\n",
    "labels = pd.DataFrame(data=labels, columns=[\"labels\"])\n",
    "manifold_iso = pd.concat(\n",
    "    [manifold_iso, labels], axis=1, join=\"inner\", ignore_index=True\n",
    ")\n",
    "\n",
    "# removing duplicates since that won't help us (or add any extra information)\n",
    "manifold_iso = manifold_iso.drop_duplicates(ignore_index=True)\n",
    "manifold_iso.columns = iso_col_names + [\"labels\"]\n",
    "\n",
    "manifold_iso.head(3)"
   ]
  },
  {
   "cell_type": "code",
   "execution_count": null,
   "id": "15",
   "metadata": {},
   "outputs": [],
   "source": [
    "fig, ax = plot_nD(x=\"ISO1\", y=\"ISO2\", z=\"ISO3\", data=manifold_iso)\n",
    "\n",
    "fig.savefig(path.join(outdir, \"iso_2d.png\")) if savefig else None\n",
    "\n",
    "fig, ax = plot_side_by_side(x=\"ISO1\", y=\"ISO2\", z=\"ISO3\", data=manifold_iso)\n",
    "fig.savefig(path.join(outdir, \"iso_2d_side.png\")) if savefig else None"
   ]
  }
 ],
 "metadata": {
  "jupytext": {
   "formats": "ipynb,py:percent"
  },
  "kernelspec": {
   "display_name": "Python 3",
   "language": "python",
   "name": "python3"
  },
  "language_info": {
   "codemirror_mode": {
    "name": "ipython",
    "version": 2
   },
   "file_extension": ".py",
   "mimetype": "text/x-python",
   "name": "python",
   "nbconvert_exporter": "python",
   "pygments_lexer": "ipython2",
   "version": "3.10.13"
  }
 },
 "nbformat": 4,
 "nbformat_minor": 5
}
