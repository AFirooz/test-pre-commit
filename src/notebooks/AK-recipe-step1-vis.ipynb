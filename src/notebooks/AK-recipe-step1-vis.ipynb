{
 "cells": [
  {
   "cell_type": "code",
   "execution_count": null,
   "id": "0",
   "metadata": {},
   "outputs": [],
   "source": [
    "import numpy as np\n",
    "import pandas as pd\n",
    "import os.path as path\n",
    "\n",
    "import seaborn as sns\n",
    "import matplotlib.pyplot as plt\n",
    "from matplotlib.colors import LinearSegmentedColormap\n",
    "\n",
    "from torchvision import transforms\n",
    "\n",
    "import nn_preprocessor as nnp\n",
    "import filestructure as fs\n",
    "\n",
    "labels = nnp.Labels(\"mz\")\n",
    "grouping = nnp.Grouping(\"mz\", group_init=\"person\")\n",
    "outdir = path.join(fs.OutputPath.lcms, \"visuals\")\n",
    "\n",
    "savefig = True"
   ]
  },
  {
   "cell_type": "markdown",
   "id": "1",
   "metadata": {},
   "source": [
    "# Looking at the mass to charge ratios"
   ]
  },
  {
   "cell_type": "code",
   "execution_count": null,
   "id": "2",
   "metadata": {},
   "outputs": [],
   "source": [
    "dataT = nnp.CustomDataset(\"mz\", labels.tissue_type, grouping.result, transpose=True)\n",
    "dataT.pre_transforms(transform=transforms.Compose([nnp.ColPadding(dataT.all_cols)]))\n",
    "\n",
    "dfT = dataT.to_df()\n",
    "mz = np.array(dfT.index.tolist())\n",
    "dfT_all = pd.DataFrame(\n",
    "    {\"mz\": mz, \"labels\": dfT[\"labels\"].to_list(), \"groups\": dfT[\"groups\"].to_list()}\n",
    ")\n",
    "\n",
    "print(f\"Number of mz: {len(mz)}\")"
   ]
  },
  {
   "cell_type": "code",
   "execution_count": null,
   "id": "3",
   "metadata": {},
   "outputs": [],
   "source": [
    "fig, ax = plt.subplots(figsize=(10, 7), dpi=150)\n",
    "sns.histplot(\n",
    "    data=dfT_all, x=\"mz\", bins=60, hue=\"labels\", ax=ax, kde=True, element=\"step\"\n",
    ")\n",
    "plt.savefig(path.join(outdir, \"mz_hist_aggregated.png\"), dpi=300) if savefig else print(\n",
    "    \"Fig not saved\"\n",
    ")\n",
    "plt.show()"
   ]
  },
  {
   "cell_type": "code",
   "execution_count": null,
   "id": "4",
   "metadata": {},
   "outputs": [],
   "source": [
    "fig, ax = plt.subplots(nrows=2, figsize=(10, 7), dpi=150, sharex=True)\n",
    "sns.histplot(\n",
    "    data=dfT_all,\n",
    "    x=\"mz\",\n",
    "    bins=50,\n",
    "    hue=\"groups\",\n",
    "    ax=ax[0],\n",
    "    palette=\"crest\",\n",
    "    kde=True,\n",
    "    kde_kws={\"clip\": (dfT_all[\"mz\"].min(), dfT_all[\"mz\"].max())},\n",
    ")\n",
    "ax[0].get_legend().remove()\n",
    "\n",
    "sns.kdeplot(\n",
    "    data=dfT_all,\n",
    "    x=\"mz\",\n",
    "    hue=\"groups\",\n",
    "    ax=ax[1],\n",
    "    legend=False,\n",
    "    palette=\"Set1\",\n",
    "    clip=(dfT_all[\"mz\"].min(), dfT_all[\"mz\"].max()),\n",
    "    bw_adjust=1.2,\n",
    ")\n",
    "\n",
    "plt.savefig(path.join(outdir, \"mz_hist_groups.png\"), dpi=300) if savefig else print(\n",
    "    \"Fig not saved\"\n",
    ")\n",
    "plt.show()"
   ]
  },
  {
   "cell_type": "markdown",
   "id": "5",
   "metadata": {},
   "source": [
    "## will a person have 2 lines?"
   ]
  },
  {
   "cell_type": "code",
   "execution_count": null,
   "id": "6",
   "metadata": {},
   "outputs": [],
   "source": [
    "# fig, ax = plt.subplots(nrows=2, figsize=(10, 7), dpi=150, sharex=True)\n",
    "#\n",
    "# grp_df = dfT_all[dfT_all['groups'] == 38]\n",
    "#\n",
    "# sns.histplot(data=grp_df, x='mz', bins=50, hue='labels', ax=ax[0], kde=True, element='step')\n",
    "#\n",
    "# sns.kdeplot(data=grp_df, x='mz', hue='groups', ax=ax[1],\n",
    "#             legend=False,\n",
    "#             palette='Set1',\n",
    "#             clip=(dfT_all['mz'].min(), dfT_all['mz'].max()),\n",
    "#             bw_adjust=1,\n",
    "#             )\n",
    "# # ax[1].set_ylim(0, 0.002)\n",
    "# ax[1].set_yscale('log')\n",
    "# ax[1].set_ylim(10e-8, 10e-3)\n",
    "#\n",
    "# plt.show()"
   ]
  },
  {
   "cell_type": "code",
   "execution_count": null,
   "id": "7",
   "metadata": {},
   "outputs": [],
   "source": [
    "fig, ax = plt.subplots(\n",
    "    nrows=20,\n",
    "    ncols=2,\n",
    "    sharex=True,\n",
    "    figsize=(16, 50),\n",
    "    sharey=True,\n",
    ")\n",
    "ax = ax.flatten()\n",
    "\n",
    "for i in range(39):\n",
    "    grp_df = dfT_all[dfT_all[\"groups\"] == i]\n",
    "    sns.histplot(\n",
    "        data=grp_df, x=\"mz\", bins=50, hue=\"labels\", ax=ax[i], kde=True, element=\"step\"\n",
    "    )\n",
    "    ax[i].get_legend().remove()\n",
    "    ax[i].set_title(f\"Patient {i}\")\n",
    "\n",
    "fig.tight_layout()\n",
    "# plt.savefig(path.join(outdir, 'mz_hist.png'), dpi=300) if savefig else print(\"Fig not saved\")\n",
    "plt.savefig(path.join(outdir, \"mz_hist_scaled.png\"), dpi=300) if savefig else print(\n",
    "    \"Fig not saved\"\n",
    ")\n",
    "plt.close(fig)"
   ]
  },
  {
   "cell_type": "markdown",
   "id": "8",
   "metadata": {},
   "source": [
    "# Looking at retention times"
   ]
  },
  {
   "cell_type": "code",
   "execution_count": null,
   "id": "9",
   "metadata": {},
   "outputs": [],
   "source": [
    "data = nnp.CustomDataset(\"mz\", labels.tissue_type, grouping.result, transpose=False)\n",
    "data.pre_transforms(transform=transforms.Compose([nnp.ColPadding(data.all_cols)]))\n",
    "\n",
    "df = data.to_df()\n",
    "rt = np.array(df.index.tolist())\n",
    "df_all = pd.DataFrame(\n",
    "    {\"rt\": rt, \"labels\": df[\"labels\"].to_list(), \"groups\": df[\"groups\"].to_list()}\n",
    ")\n",
    "rt_filter = rt > 1\n",
    "\n",
    "df_all = df_all[rt_filter]\n",
    "\n",
    "print(f\"Number of retention times: {len(rt)}\")"
   ]
  },
  {
   "cell_type": "code",
   "execution_count": null,
   "id": "10",
   "metadata": {},
   "outputs": [],
   "source": [
    "fig, ax = plt.subplots(figsize=(10, 7), dpi=150)\n",
    "sns.histplot(\n",
    "    data=df_all,\n",
    "    x=\"rt\",\n",
    "    hue=\"labels\",\n",
    "    bins=50,\n",
    "    ax=ax,\n",
    "    element=\"step\",\n",
    "    kde=True,\n",
    "    kde_kws={\"bw_adjust\": 0.8},\n",
    ")\n",
    "plt.savefig(path.join(outdir, \"rt_hist_aggregated.png\"), dpi=300) if savefig else print(\n",
    "    \"Fig not saved\"\n",
    ")\n",
    "plt.show()"
   ]
  },
  {
   "cell_type": "code",
   "execution_count": null,
   "id": "11",
   "metadata": {},
   "outputs": [],
   "source": [
    "fig, ax = plt.subplots(figsize=(10, 7), dpi=150, nrows=2, sharex=True)\n",
    "sns.histplot(\n",
    "    data=df_all,\n",
    "    x=\"rt\",\n",
    "    hue=\"groups\",\n",
    "    bins=50,\n",
    "    ax=ax[0],\n",
    "    element=\"step\",\n",
    "    palette=\"crest\",\n",
    "    kde=True,\n",
    ")\n",
    "sns.kdeplot(\n",
    "    data=df_all,\n",
    "    x=\"rt\",\n",
    "    hue=\"groups\",\n",
    "    ax=ax[1],\n",
    "    legend=False,\n",
    "    palette=\"tab10\",\n",
    "    bw_adjust=1.2,\n",
    "    clip=(df_all[\"rt\"].min(), 7),\n",
    ")\n",
    "ax[0].get_legend().remove()\n",
    "plt.savefig(path.join(outdir, \"rt_hist_groups.png\"), dpi=300) if savefig else print(\n",
    "    \"Fig not saved\"\n",
    ")\n",
    "plt.show()"
   ]
  },
  {
   "cell_type": "code",
   "execution_count": null,
   "id": "12",
   "metadata": {},
   "outputs": [],
   "source": [
    "fig, ax = plt.subplots(\n",
    "    nrows=20,\n",
    "    ncols=2,\n",
    "    figsize=(16, 50),\n",
    "    sharex=True,\n",
    "    sharey=True,\n",
    ")\n",
    "ax = ax.flatten()\n",
    "\n",
    "for i in range(39):\n",
    "    grp_df = df_all[df_all[\"groups\"] == i]\n",
    "    sns.histplot(\n",
    "        data=grp_df, x=\"rt\", bins=25, hue=\"labels\", ax=ax[i], kde=True, element=\"step\"\n",
    "    )\n",
    "    ax[i].get_legend().remove()\n",
    "    ax[i].set_title(f\"Patient {i + 1}\")\n",
    "\n",
    "fig.tight_layout()\n",
    "# plt.savefig(path.join(outdir, 'rt_hist.png'), dpi=300) if savefig else print(\"Fig not saved\")\n",
    "plt.savefig(path.join(outdir, \"rt_hist_scaled.png\"), dpi=300) if savefig else print(\n",
    "    \"Fig not saved\"\n",
    ")\n",
    "plt.close(fig)"
   ]
  },
  {
   "cell_type": "markdown",
   "id": "13",
   "metadata": {},
   "source": [
    "# Looking at the patient data as heatmaps"
   ]
  },
  {
   "cell_type": "code",
   "execution_count": null,
   "id": "14",
   "metadata": {},
   "outputs": [],
   "source": [
    "# Create the colormap\n",
    "colors = [(0, \"lightblue\"), (1, \"red\")]\n",
    "colors = LinearSegmentedColormap.from_list(\"myc\", colors)"
   ]
  },
  {
   "cell_type": "code",
   "execution_count": null,
   "id": "15",
   "metadata": {},
   "outputs": [],
   "source": [
    "fig, ax = plt.subplots(nrows=2, sharey=True, sharex=True, figsize=(20, 10))\n",
    "ax = ax.flatten()\n",
    "\n",
    "for i in range(39):\n",
    "    hmap = df  # this so I can change the df fast without changing the code\n",
    "    hmap = hmap[hmap[\"groups\"] == i]\n",
    "    p0 = hmap[hmap[\"labels\"] == 0]\n",
    "    p1 = hmap[hmap[\"labels\"] == 1]\n",
    "\n",
    "    drop_cols = [\"labels\", \"groups\"]\n",
    "    for col in hmap.columns:\n",
    "        t = hmap.loc[:, col]\n",
    "        if t.sum() == 0.0:\n",
    "            drop_cols.append(col)\n",
    "\n",
    "    p0 = p0.drop(columns=drop_cols)\n",
    "    p1 = p1.drop(columns=drop_cols)\n",
    "\n",
    "    sns.heatmap(p0, ax=ax[0], cmap=colors, cbar=False, square=False)\n",
    "    sns.heatmap(p1, ax=ax[1], cmap=colors, cbar=False, square=False)\n",
    "\n",
    "    ax[0].set_title(f\"Patient {i + 1} - Label 0\")\n",
    "    ax[1].set_title(f\"Patient {i + 1} - Label 1\")\n",
    "\n",
    "    fig.tight_layout()\n",
    "    # plt.savefig(path.join(outdir, 'heatmaps', f'patient {i + 1} map.png'), dpi=300) if savefig else print(\"Fig not saved\")\n",
    "plt.close(fig)"
   ]
  }
 ],
 "metadata": {
  "jupytext": {
   "formats": "notebooks//ipynb,scripts//py:light"
  },
  "kernelspec": {
   "display_name": "Python 3",
   "language": "python",
   "name": "python3"
  },
  "language_info": {
   "codemirror_mode": {
    "name": "ipython",
    "version": 2
   },
   "file_extension": ".py",
   "mimetype": "text/x-python",
   "name": "python",
   "nbconvert_exporter": "python",
   "pygments_lexer": "ipython2",
   "version": "2.7.6"
  }
 },
 "nbformat": 4,
 "nbformat_minor": 5
}
