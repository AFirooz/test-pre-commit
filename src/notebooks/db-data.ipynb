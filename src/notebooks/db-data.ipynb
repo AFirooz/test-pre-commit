{
 "cells": [
  {
   "cell_type": "code",
   "execution_count": null,
   "id": "0",
   "metadata": {},
   "outputs": [],
   "source": [
    "from modules import filestructure as fs\n",
    "from submodules import utils as ut\n",
    "import pandas as pd\n",
    "import numpy as np\n",
    "import pickle"
   ]
  },
  {
   "cell_type": "code",
   "execution_count": null,
   "id": "1",
   "metadata": {},
   "outputs": [],
   "source": [
    "# importing database results as dataframes\n",
    "with open(ut.join(fs.PklPath.lcms, \"merged_df_raw.pkl\"), \"rb\") as pickle_out:\n",
    "    db: pd.DataFrame = pickle.load(pickle_out)\n",
    "\n",
    "with open(ut.join(fs.PklPath.lcms, \"all_db_dict.pkl\"), \"rb\") as pickle_out:\n",
    "    all_db: dict = pickle.load(pickle_out)\n",
    "\n",
    "# with open(ut.join(fs.PklPath.lcms, \"merged_df_group.pkl\"), \"rb\") as pickle_out:\n",
    "#     merged_df_group: pd.DataFrame = pickle.load(pickle_out)\n",
    "\n",
    "print(\"Imported Pickled Data: Done\")"
   ]
  },
  {
   "cell_type": "code",
   "execution_count": null,
   "id": "2",
   "metadata": {},
   "outputs": [],
   "source": [
    "# read the AliquotIDs in LCMS\n",
    "keys = pd.read_excel(ut.join(fs.PklPath.lcms, \"sample-keys.xlsx\"))\n",
    "# renaming the cols\n",
    "nums = list(range(9))\n",
    "keys.columns = [\"samples\"] + [f\"ID{num}\" for num in nums]\n",
    "\n",
    "# getting the AliquotIDs into a list\n",
    "lcms_ali_ids = keys.loc[:, list(keys.columns)[1:]]\n",
    "lcms_ali_ids = lcms_ali_ids.to_numpy().flatten()\n",
    "lcms_ali_ids = lcms_ali_ids[~np.isnan(lcms_ali_ids)].astype(int)\n",
    "lcms_ali_ids = np.unique(lcms_ali_ids)\n",
    "\n",
    "print(f\"The number of AliquotIDs in key.xlsx: {lcms_ali_ids.shape[0]}\")"
   ]
  },
  {
   "cell_type": "code",
   "execution_count": null,
   "id": "3",
   "metadata": {},
   "outputs": [],
   "source": [
    "# getting only the id and aliquot-id from the db\n",
    "allids = db.loc[:, [\"ID\", \"AliquotID\"]]\n",
    "\n",
    "found_ids = dict()\n",
    "\n",
    "for aliquot_key in lcms_ali_ids:\n",
    "    tmp_id = []\n",
    "    tmp_ali = []\n",
    "    tmp_idx = []\n",
    "    for i, temp in enumerate(allids[\"AliquotID\"]):\n",
    "        if temp == aliquot_key:\n",
    "            tmp_id.append(allids.loc[i, [\"ID\"]].to_list()[0])\n",
    "            tmp_ali.append(allids.loc[i, [\"AliquotID\"]].to_list()[0])\n",
    "            tmp_idx.append(i)\n",
    "\n",
    "    tmp_id = list(set(tmp_id))\n",
    "    tmp_ali = list(set(tmp_ali))\n",
    "    tmp_idx = list(set(tmp_idx))\n",
    "\n",
    "    if len(tmp_id) == 1:\n",
    "        found_ids[tmp_id[0]] = {\"AliquotID\": tmp_ali, \"indexes\": tmp_idx}\n",
    "    else:\n",
    "        print(\"Warning: found several IDs related to one AliquotID\")\n",
    "        ut.dprint(tmp_id)\n",
    "        found_ids[f\"id{i}\"] = {\"ID\": tmp_id, \"AliquotID\": tmp_ali, \"indexes\": tmp_idx}\n",
    "\n",
    "print(f\"Found {len(found_ids.keys())} matching IDs in the database\")"
   ]
  },
  {
   "cell_type": "code",
   "execution_count": null,
   "id": "4",
   "metadata": {},
   "outputs": [],
   "source": [
    "fltr = list()\n",
    "for i in range(allids.shape[0]):\n",
    "    if allids[\"ID\"][i] in list(found_ids.keys()):\n",
    "        fltr.append(True)\n",
    "    else:\n",
    "        fltr.append(False)\n",
    "\n",
    "lcmsdb: pd.DataFrame = db.iloc[fltr].drop_duplicates(ignore_index=True)\n",
    "lcmsdb"
   ]
  },
  {
   "cell_type": "code",
   "execution_count": null,
   "id": "5",
   "metadata": {},
   "outputs": [],
   "source": [
    "# temp: find statistics about the data\n",
    "\n",
    "print(lcmsdb.drop_duplicates(\"ID\").Stage.value_counts())"
   ]
  },
  {
   "cell_type": "code",
   "execution_count": null,
   "id": "6",
   "metadata": {},
   "outputs": [],
   "source": [
    "t = (\n",
    "    lcmsdb.loc[:, [\"ID\", \"TreatmentCourses\"]]\n",
    "    .dropna()\n",
    "    .drop_duplicates(ignore_index=True)\n",
    ")\n",
    "t"
   ]
  },
  {
   "cell_type": "code",
   "execution_count": null,
   "id": "7",
   "metadata": {},
   "outputs": [],
   "source": [
    "# todo: need to resolve this problems with db. Some treatments defer, see below:\n",
    "t[t.duplicated(subset=\"ID\", keep=False)]"
   ]
  },
  {
   "cell_type": "code",
   "execution_count": null,
   "id": "8",
   "metadata": {},
   "outputs": [],
   "source": [
    "# finding mutation data in db\n",
    "genes: pd.DataFrame = all_db[\"Genes\"]\n",
    "genes"
   ]
  },
  {
   "cell_type": "code",
   "execution_count": null,
   "id": "9",
   "metadata": {},
   "outputs": [],
   "source": [
    "# patients with gene mutation data + treatment information + lcms data\n",
    "lcmsdb.loc[:, [\"ID\", \"AKT1\", \"TreatmentCourses\"]].dropna().drop_duplicates(subset=\"ID\")"
   ]
  }
 ],
 "metadata": {
  "jupytext": {
   "formats": "notebooks//ipynb,scripts//py:light"
  },
  "kernelspec": {
   "display_name": "Python 3",
   "language": "python",
   "name": "python3"
  },
  "language_info": {
   "codemirror_mode": {
    "name": "ipython",
    "version": 2
   },
   "file_extension": ".py",
   "mimetype": "text/x-python",
   "name": "python",
   "nbconvert_exporter": "python",
   "pygments_lexer": "ipython2",
   "version": "2.7.6"
  }
 },
 "nbformat": 4,
 "nbformat_minor": 5
}
